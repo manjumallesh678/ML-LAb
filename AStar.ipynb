{
 "cells": [
  {
   "cell_type": "code",
   "execution_count": 2,
   "id": "3ec157cc",
   "metadata": {},
   "outputs": [
    {
     "name": "stdout",
     "output_type": "stream",
     "text": [
      "Path: ['A', 'E', 'D', 'G']\n"
     ]
    },
    {
     "data": {
      "text/plain": [
       "['A', 'E', 'D', 'G']"
      ]
     },
     "execution_count": 2,
     "metadata": {},
     "output_type": "execute_result"
    }
   ],
   "source": [
    "graph={\n",
    "    'A':[('B',2),('E',3)],'B':[('C',1),('G',9)],'C':None,'E':[('D',6)], 'D':[('G',1)] }\n",
    "def find_neigh(node):\n",
    "    if node in graph:\n",
    "        return graph[node]\n",
    "    else:\n",
    "        return None\n",
    "\n",
    "def H_val(node):\n",
    "    H_dist={'A':11, 'B': 6, 'C':99, 'D': 1, 'E':7, 'G':0}\n",
    "    return H_dist[node]\n",
    "\n",
    "def aStar(I_node,D_node):\n",
    "    OPEN=set(I_node)\n",
    "    CLOSE=set()\n",
    "    g={}\n",
    "    p={}\n",
    "    p[I_node]=I_node\n",
    "    g[I_node]=0\n",
    "    \n",
    "    while len(OPEN)>0:\n",
    "        n=None\n",
    "        for v in OPEN:\n",
    "            if n==None or g[v]+H_val(v)<g[n]+H_val(n):\n",
    "                n=v\n",
    "        if n==D_node or graph[n]==None:\n",
    "            pass\n",
    "        else:\n",
    "            for(m,weight) in find_neigh(n):\n",
    "                if m not in OPEN and m not in CLOSE:\n",
    "                    OPEN.add(m)\n",
    "                    p[m]=n\n",
    "                    g[m]=weight+g[n]\n",
    "                else:\n",
    "                    if g[m]>g[n]+weight:\n",
    "                        g[m]=g[n]+weight\n",
    "                        p[m]=n\n",
    "                    if m in CLOSE:\n",
    "                        CLOSE.remove(m)\n",
    "                        OPEN.add(m)\n",
    "        if n==None:\n",
    "            print(\"No path\")\n",
    "            return None\n",
    "        if n==D_node:\n",
    "            path=[]\n",
    "                \n",
    "            while p[n]!=n:\n",
    "                path.append(n)\n",
    "                n=p[n]\n",
    "            path.append(I_node)\n",
    "                \n",
    "            path.reverse()\n",
    "            print(\"Path: \"+str(path))\n",
    "            return path\n",
    "        OPEN.remove(n)\n",
    "        CLOSE.add(n)\n",
    "            \n",
    "    print('No path')\n",
    "    return(None)\n",
    "\n",
    "aStar('A','G')"
   ]
  },
  {
   "cell_type": "code",
   "execution_count": null,
   "id": "ccdc6420",
   "metadata": {},
   "outputs": [],
   "source": []
  },
  {
   "cell_type": "code",
   "execution_count": null,
   "id": "f47d5583",
   "metadata": {},
   "outputs": [],
   "source": []
  },
  {
   "cell_type": "code",
   "execution_count": null,
   "id": "003a7522",
   "metadata": {},
   "outputs": [],
   "source": []
  }
 ],
 "metadata": {
  "kernelspec": {
   "display_name": "Python 3 (ipykernel)",
   "language": "python",
   "name": "python3"
  },
  "language_info": {
   "codemirror_mode": {
    "name": "ipython",
    "version": 3
   },
   "file_extension": ".py",
   "mimetype": "text/x-python",
   "name": "python",
   "nbconvert_exporter": "python",
   "pygments_lexer": "ipython3",
   "version": "3.9.7"
  }
 },
 "nbformat": 4,
 "nbformat_minor": 5
}
