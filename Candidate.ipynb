{
 "cells": [
  {
   "cell_type": "code",
   "execution_count": 12,
   "id": "576f4a07",
   "metadata": {},
   "outputs": [],
   "source": [
    "import csv\n"
   ]
  },
  {
   "cell_type": "code",
   "execution_count": 13,
   "id": "622860cb",
   "metadata": {},
   "outputs": [
    {
     "name": "stdout",
     "output_type": "stream",
     "text": [
      "[['sunny', 'warm', 'normal', 'strong', 'warm', 'same', 'yes'], ['sunny', 'warm', 'high', 'strong', 'warm', 'same', 'yes'], ['rainy', 'cold', 'high', 'strong', 'warm', 'change', 'no'], ['sunny', 'warm', 'high', 'strong', 'cool', 'change', 'yes']]\n"
     ]
    }
   ],
   "source": [
    "data = []\n",
    "with open('data.csv','r') as csvfile:\n",
    "    reader = csv.reader(csvfile)\n",
    "    for row in reader:\n",
    "        data.append(row)\n",
    "print(data)\n"
   ]
  },
  {
   "cell_type": "code",
   "execution_count": 10,
   "id": "763bfaf8",
   "metadata": {},
   "outputs": [],
   "source": [
    "row = len(data)\n",
    "col = len(data[0]) - 1\n",
    "\n",
    "sh = ['0']*col\n",
    "gh = ['?']*col\n",
    "\n",
    "for feature in range(0,col):\n",
    "    sh[feature]=data[0][feature]\n"
   ]
  },
  {
   "cell_type": "code",
   "execution_count": 11,
   "id": "b54854c4",
   "metadata": {},
   "outputs": [
    {
     "name": "stdout",
     "output_type": "stream",
     "text": [
      "----------------------------------------------------------------\n",
      "Row= 0\n",
      "Specific hypothesis: ['sunny', 'warm', 'normal', 'strong', 'warm', 'same']\n",
      "General hypothesis: ['?', '?', '?', '?', '?', '?']\n",
      "----------------------------------------------------------------\n",
      "----------------------------------------------------------------\n",
      "Row= 1\n",
      "Specific hypothesis: ['sunny', 'warm', '?', 'strong', 'warm', 'same']\n",
      "General hypothesis: ['?', '?', '?', '?', '?', '?']\n",
      "----------------------------------------------------------------\n",
      "----------------------------------------------------------------\n",
      "Row= 2\n",
      "Specific hypothesis: ['sunny', 'warm', '?', 'strong', 'warm', 'same']\n",
      "General hypothesis: [['sunny', '?', '?', '?', '?', '?'], ['?', 'warm', '?', '?', '?', '?'], ['?', '?', '?', '?', '?', '?'], ['?', '?', '?', '?', '?', 'same']]\n",
      "----------------------------------------------------------------\n",
      "----------------------------------------------------------------\n",
      "Row= 3\n",
      "Specific hypothesis: ['sunny', 'warm', '?', 'strong', '?', '?']\n",
      "General hypothesis: [['sunny', '?', '?', '?', '?', '?'], ['?', 'warm', '?', '?', '?', '?'], ['?', '?', '?', '?', '?', '?']]\n",
      "----------------------------------------------------------------\n"
     ]
    }
   ],
   "source": [
    "temp = []\n",
    "for sample in range(0,row):\n",
    "    cr = data[sample]\n",
    "    \n",
    "    if cr[-1] == 'yes':\n",
    "        for feature in range(0,col):\n",
    "            if sh[feature] != data[sample][feature]:\n",
    "                sh[feature] = '?'\n",
    "        for feature in range(0,col):\n",
    "            for k in range(0,len(temp)):\n",
    "                if sh[feature] != temp[k][feature] and temp[k][feature] != '?':\n",
    "                    del temp[k]\n",
    "    elif cr[-1] == 'no':\n",
    "        for feature in range(0,col):\n",
    "            if sh[feature] != data[sample][feature]:\n",
    "                gh[feature] = sh[feature]\n",
    "                temp.append(gh)\n",
    "                gh = ['?']*col\n",
    "    print(\"----------------------------------------------------------------\")\n",
    "    print('Row=',sample)\n",
    "    print('Specific hypothesis:',sh)\n",
    "    if len(temp)==0:\n",
    "        print('General hypothesis:',gh)\n",
    "    else:\n",
    "        print('General hypothesis:',temp)\n",
    "    print(\"----------------------------------------------------------------\")"
   ]
  },
  {
   "cell_type": "code",
   "execution_count": null,
   "id": "7aaf7ce2",
   "metadata": {},
   "outputs": [],
   "source": []
  },
  {
   "cell_type": "code",
   "execution_count": null,
   "id": "f1ef7918",
   "metadata": {},
   "outputs": [],
   "source": []
  }
 ],
 "metadata": {
  "kernelspec": {
   "display_name": "Python 3 (ipykernel)",
   "language": "python",
   "name": "python3"
  },
  "language_info": {
   "codemirror_mode": {
    "name": "ipython",
    "version": 3
   },
   "file_extension": ".py",
   "mimetype": "text/x-python",
   "name": "python",
   "nbconvert_exporter": "python",
   "pygments_lexer": "ipython3",
   "version": "3.9.7"
  }
 },
 "nbformat": 4,
 "nbformat_minor": 5
}
