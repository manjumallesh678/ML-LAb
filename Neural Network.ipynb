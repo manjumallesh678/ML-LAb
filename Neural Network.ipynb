{
 "cells": [
  {
   "cell_type": "code",
   "execution_count": 1,
   "id": "a6e7215b",
   "metadata": {},
   "outputs": [],
   "source": [
    "import numpy as np"
   ]
  },
  {
   "cell_type": "code",
   "execution_count": 2,
   "id": "6579155b",
   "metadata": {},
   "outputs": [],
   "source": [
    "x=np.array(([2,9],[1,5],[3,6]),dtype=float)\n",
    "y=np.array(([92],[86],[89]),dtype=float)\n"
   ]
  },
  {
   "cell_type": "code",
   "execution_count": 3,
   "id": "14a331b9",
   "metadata": {},
   "outputs": [
    {
     "name": "stdout",
     "output_type": "stream",
     "text": [
      "[[2. 9.]\n",
      " [1. 5.]\n",
      " [3. 6.]]\n",
      "[[92.]\n",
      " [86.]\n",
      " [89.]]\n"
     ]
    }
   ],
   "source": [
    "print(x)\n",
    "print(y)"
   ]
  },
  {
   "cell_type": "code",
   "execution_count": 4,
   "id": "0ab3c132",
   "metadata": {},
   "outputs": [],
   "source": [
    "x = x/np.amax(x,axis=0)\n",
    "y = y/100"
   ]
  },
  {
   "cell_type": "code",
   "execution_count": 5,
   "id": "59547c75",
   "metadata": {},
   "outputs": [
    {
     "name": "stdout",
     "output_type": "stream",
     "text": [
      "[[0.66666667 1.        ]\n",
      " [0.33333333 0.55555556]\n",
      " [1.         0.66666667]]\n",
      "[[0.92]\n",
      " [0.86]\n",
      " [0.89]]\n"
     ]
    }
   ],
   "source": [
    "print(x)\n",
    "print(y)"
   ]
  },
  {
   "cell_type": "code",
   "execution_count": 6,
   "id": "cc0cf58d",
   "metadata": {},
   "outputs": [],
   "source": [
    "class NeuralNetwork(object):\n",
    "    \n",
    "    def __init__(self):\n",
    "        self.inputsize = 2\n",
    "        self.hiddensize = 3\n",
    "        self.outputsize = 1\n",
    "        \n",
    "        self.w1 = np.random.randn(self.inputsize,self.hiddensize)\n",
    "        self.w2 = np.random.randn(self.hiddensize,self.outputsize)\n",
    "        \n",
    "    def sigmod(self,s,derive=False):\n",
    "        if derive == False:\n",
    "            return 1/(1+np.exp(-s))\n",
    "        else:\n",
    "            return s * (1-s)\n",
    "    \n",
    "    def feedforward(self,x):\n",
    "        \n",
    "        self.z = np.dot(x,self.w1)\n",
    "        self.z2 = self.sigmod(self.z)\n",
    "        \n",
    "        self.z3 = np.dot(self.z2,self.w2)\n",
    "        output = self.sigmod(self.z3)\n",
    "        return output\n",
    "    def backpropagation(self,x,y,output):\n",
    "        self.outputError = y - output\n",
    "        self.outputdelta = self.outputError*self.sigmod(output,derive=True)\n",
    "        \n",
    "        self.z2Error = self.outputdelta.dot(self.w2.T)\n",
    "        self.z2delta = self.z2Error*self.sigmod(self.z2,derive=True)\n",
    "        \n",
    "        self.w1+=x.T.dot(self.z2delta)\n",
    "        self.w2+=self.z2.T.dot(self.outputdelta)\n",
    "        \n",
    "    def train(self,x,y):\n",
    "        output = self.feedforward(x)\n",
    "        self.backpropagation(x,y,output)\n",
    "    \n",
    "        "
   ]
  },
  {
   "cell_type": "code",
   "execution_count": 7,
   "id": "860244f4",
   "metadata": {},
   "outputs": [],
   "source": [
    "NN = NeuralNetwork()\n",
    "for i in range(10000):\n",
    "    NN.train(x,y)"
   ]
  },
  {
   "cell_type": "code",
   "execution_count": 8,
   "id": "b20d1bca",
   "metadata": {},
   "outputs": [
    {
     "name": "stdout",
     "output_type": "stream",
     "text": [
      "[[0.91999709]\n",
      " [0.86000139]\n",
      " [0.89000079]]\n"
     ]
    }
   ],
   "source": [
    "print(NN.feedforward(x))"
   ]
  },
  {
   "cell_type": "code",
   "execution_count": 9,
   "id": "b8396d91",
   "metadata": {},
   "outputs": [
    {
     "data": {
      "text/plain": [
       "array([0.91106343])"
      ]
     },
     "execution_count": 9,
     "metadata": {},
     "output_type": "execute_result"
    }
   ],
   "source": [
    "NN.feedforward([0.66,0.888]) "
   ]
  },
  {
   "cell_type": "code",
   "execution_count": null,
   "id": "f5e5dae3",
   "metadata": {},
   "outputs": [],
   "source": []
  }
 ],
 "metadata": {
  "kernelspec": {
   "display_name": "Python 3 (ipykernel)",
   "language": "python",
   "name": "python3"
  },
  "language_info": {
   "codemirror_mode": {
    "name": "ipython",
    "version": 3
   },
   "file_extension": ".py",
   "mimetype": "text/x-python",
   "name": "python",
   "nbconvert_exporter": "python",
   "pygments_lexer": "ipython3",
   "version": "3.9.7"
  }
 },
 "nbformat": 4,
 "nbformat_minor": 5
}
